{
  "nbformat": 4,
  "nbformat_minor": 0,
  "metadata": {
    "colab": {
      "name": "testando_diferentes_modelos.ipynb",
      "provenance": [],
      "collapsed_sections": []
    },
    "kernelspec": {
      "name": "python3",
      "display_name": "Python 3"
    }
  },
  "cells": [
    {
      "cell_type": "markdown",
      "metadata": {
        "id": "wN2jfn6ghtol",
        "colab_type": "text"
      },
      "source": [
        "Será que esse modelo de árvore de decisão é nossa melhor escolha? Podemos optar por usar não apenas uma árvore, mas uma floresta inteira, o que geralmente dá melhores resultados. Vamos fazer isso."
      ]
    },
    {
      "cell_type": "markdown",
      "metadata": {
        "id": "50SEHRdpiAgU",
        "colab_type": "text"
      },
      "source": [
        "Vamos aproveitar e dar uma organizada no nosso código. Primeiro, todos os imports que fizemos no esquenta."
      ]
    },
    {
      "cell_type": "code",
      "metadata": {
        "id": "HHg5Akq1hXls",
        "colab_type": "code",
        "colab": {}
      },
      "source": [
        "import pandas as pd\n",
        "from sklearn.model_selection import train_test_split\n",
        "from sklearn import tree\n",
        "from sklearn.metrics import mean_absolute_error"
      ],
      "execution_count": 0,
      "outputs": []
    },
    {
      "cell_type": "markdown",
      "metadata": {
        "id": "OeVzBBwXjIJD",
        "colab_type": "text"
      },
      "source": [
        "Então carregamos os arquivos de treino e teste."
      ]
    },
    {
      "cell_type": "code",
      "metadata": {
        "id": "vmfEzqBkiJ9h",
        "colab_type": "code",
        "colab": {}
      },
      "source": [
        "dados_treino = pd.read_csv('treino.csv', index_col='Id')\n",
        "dados_teste = pd.read_csv('teste.csv', index_col='Id')"
      ],
      "execution_count": 0,
      "outputs": []
    },
    {
      "cell_type": "markdown",
      "metadata": {
        "id": "3smv0A5sjM_t",
        "colab_type": "text"
      },
      "source": [
        "Escolhemos as características."
      ]
    },
    {
      "cell_type": "code",
      "metadata": {
        "id": "YwureYEnidcd",
        "colab_type": "code",
        "colab": {}
      },
      "source": [
        "caracteristicas = ['LotArea', 'YearBuilt', '1stFlrSF', '2ndFlrSF', \n",
        "                   'FullBath', 'BedroomAbvGr','TotRmsAbvGrd']"
      ],
      "execution_count": 0,
      "outputs": []
    },
    {
      "cell_type": "markdown",
      "metadata": {
        "id": "pejhQ4E-jPvu",
        "colab_type": "text"
      },
      "source": [
        "Fazemos a copia dos dados."
      ]
    },
    {
      "cell_type": "code",
      "metadata": {
        "id": "TNr9lZZ5iV82",
        "colab_type": "code",
        "colab": {}
      },
      "source": [
        "X = dados_treino[caracteristicas].copy()\n",
        "y = dados_treino.SalePrice"
      ],
      "execution_count": 0,
      "outputs": []
    },
    {
      "cell_type": "markdown",
      "metadata": {
        "id": "EcY0qZhojT3b",
        "colab_type": "text"
      },
      "source": [
        "Dividimos os nossos dados entre treino e validação."
      ]
    },
    {
      "cell_type": "code",
      "metadata": {
        "id": "HaJ26U9dimSM",
        "colab_type": "code",
        "colab": {}
      },
      "source": [
        "X_treino, X_valid, y_treino, y_valid = train_test_split(X, y, \n",
        "                                                    train_size=0.8, \n",
        "                                                    test_size=0.2, \n",
        "                                                    random_state=42)"
      ],
      "execution_count": 0,
      "outputs": []
    },
    {
      "cell_type": "markdown",
      "metadata": {
        "id": "RnOIyCrIjaZj",
        "colab_type": "text"
      },
      "source": [
        "Temos o nosso modelo simples de árvore. Vamos fazer um com a floresta agora."
      ]
    },
    {
      "cell_type": "code",
      "metadata": {
        "id": "HrZIiVs5jA7G",
        "colab_type": "code",
        "colab": {}
      },
      "source": [
        "modelo_1 = tree.DecisionTreeRegressor(random_state=42)"
      ],
      "execution_count": 0,
      "outputs": []
    },
    {
      "cell_type": "code",
      "metadata": {
        "id": "jf4lcY2Bi84K",
        "colab_type": "code",
        "colab": {}
      },
      "source": [
        "from sklearn.ensemble import RandomForestRegressor"
      ],
      "execution_count": 0,
      "outputs": []
    },
    {
      "cell_type": "code",
      "metadata": {
        "id": "cS4Dd0cFjkC3",
        "colab_type": "code",
        "colab": {}
      },
      "source": [
        "modelo_2 = RandomForestRegressor(random_state=42)"
      ],
      "execution_count": 0,
      "outputs": []
    },
    {
      "cell_type": "markdown",
      "metadata": {
        "id": "0fCocKRGkJ9T",
        "colab_type": "text"
      },
      "source": [
        "Vamos ver como está o erro desses modelos."
      ]
    },
    {
      "cell_type": "code",
      "metadata": {
        "id": "nSFql939kMv1",
        "colab_type": "code",
        "colab": {
          "base_uri": "https://localhost:8080/",
          "height": 34
        },
        "outputId": "37ee70ff-b641-4669-bd49-e8fa9cb47f0a"
      },
      "source": [
        "modelo_1.fit(X_treino, y_treino)\n",
        "preds_1 = modelo_1.predict(X_valid)\n",
        "mae_1 = mean_absolute_error(y_valid, preds_1)\n",
        "mae_1"
      ],
      "execution_count": 14,
      "outputs": [
        {
          "output_type": "execute_result",
          "data": {
            "text/plain": [
              "30821.260273972603"
            ]
          },
          "metadata": {
            "tags": []
          },
          "execution_count": 14
        }
      ]
    },
    {
      "cell_type": "code",
      "metadata": {
        "id": "gornq511kilu",
        "colab_type": "code",
        "colab": {
          "base_uri": "https://localhost:8080/",
          "height": 87
        },
        "outputId": "7169e97e-d83c-4f08-c19c-b6da49135887"
      },
      "source": [
        "modelo_2.fit(X_treino, y_treino)\n",
        "preds_2 = modelo_2.predict(X_valid)\n",
        "mae_2 = mean_absolute_error(y_valid, preds_2)\n",
        "mae_2"
      ],
      "execution_count": 15,
      "outputs": [
        {
          "output_type": "stream",
          "text": [
            "/usr/local/lib/python3.6/dist-packages/sklearn/ensemble/forest.py:245: FutureWarning: The default value of n_estimators will change from 10 in version 0.20 to 100 in 0.22.\n",
            "  \"10 in version 0.20 to 100 in 0.22.\", FutureWarning)\n"
          ],
          "name": "stderr"
        },
        {
          "output_type": "execute_result",
          "data": {
            "text/plain": [
              "22740.137181996088"
            ]
          },
          "metadata": {
            "tags": []
          },
          "execution_count": 15
        }
      ]
    },
    {
      "cell_type": "markdown",
      "metadata": {
        "id": "yIK0kvqPk9Sf",
        "colab_type": "text"
      },
      "source": [
        "Podemos mostrar os erros de uma maneira organizada, e repare que o modelo da floresta, como esperado, tem um erro menor."
      ]
    },
    {
      "cell_type": "code",
      "metadata": {
        "id": "XMiqtF1jkrxx",
        "colab_type": "code",
        "colab": {
          "base_uri": "https://localhost:8080/",
          "height": 50
        },
        "outputId": "41c2ca1d-f62a-49a6-d235-2a60d50638f5"
      },
      "source": [
        "print('MAE do modelo de árvore: %d'% mae_1)\n",
        "print('MAE do modelo de floresta: %d'% mae_2)"
      ],
      "execution_count": 16,
      "outputs": [
        {
          "output_type": "stream",
          "text": [
            "MAE do modelo de árvore: 30821\n",
            "MAE do modelo de floresta: 22740\n"
          ],
          "name": "stdout"
        }
      ]
    },
    {
      "cell_type": "markdown",
      "metadata": {
        "id": "e-9_r5WclHSD",
        "colab_type": "text"
      },
      "source": [
        "Será que esse erro pode ser menor ainda? Como podemos fazer isso? Podemos alterar o que passamos para o nosso modelo e escolhermos um modelo com o menor resultado de erro."
      ]
    },
    {
      "cell_type": "code",
      "metadata": {
        "id": "GMn4HpcUk5Ik",
        "colab_type": "code",
        "colab": {}
      },
      "source": [
        "modelo_3 = RandomForestRegressor(n_estimators=50, random_state=42)\n",
        "modelo_4 = RandomForestRegressor(n_estimators=100, random_state=42)\n",
        "modelo_5 = RandomForestRegressor(n_estimators=100, criterion='mae', random_state=42)\n",
        "modelo_6 = RandomForestRegressor(n_estimators=200, min_samples_split=20, random_state=42)\n",
        "modelo_7 = RandomForestRegressor(n_estimators=100, max_depth=7, random_state=42)"
      ],
      "execution_count": 0,
      "outputs": []
    },
    {
      "cell_type": "markdown",
      "metadata": {
        "id": "igiMHySkliF8",
        "colab_type": "text"
      },
      "source": [
        "Repare que definimos mais cinco modelo de floresta com parâmetros diferentes, agora para o nosso código ficar menos repetitivos, podemos agrupa-los em uma lista."
      ]
    },
    {
      "cell_type": "code",
      "metadata": {
        "id": "nHCT704Ylg8S",
        "colab_type": "code",
        "colab": {}
      },
      "source": [
        "modelos = [modelo_3, modelo_4, modelo_5, modelo_6, modelo_7]"
      ],
      "execution_count": 0,
      "outputs": []
    },
    {
      "cell_type": "markdown",
      "metadata": {
        "id": "gvNS88Txl2SH",
        "colab_type": "text"
      },
      "source": [
        "Agora, para cada modelo na nossa lista de modelos, podemos fazer o fit, predict e imprimir o mae."
      ]
    },
    {
      "cell_type": "code",
      "metadata": {
        "id": "0ubjxoYWl0lC",
        "colab_type": "code",
        "colab": {
          "base_uri": "https://localhost:8080/",
          "height": 101
        },
        "outputId": "64d15750-bc3c-4f69-9e28-a581f7bbbb49"
      },
      "source": [
        "for i in range(0, len(modelos)):\n",
        "  modelos[i].fit(X_treino, y_treino)\n",
        "  preds = modelos[i].predict(X_valid)\n",
        "  mae = mean_absolute_error(y_valid, preds)\n",
        "  print('MAE do modelo_%d: %d' % (i+3, mae))"
      ],
      "execution_count": 27,
      "outputs": [
        {
          "output_type": "stream",
          "text": [
            "MAE do modelo_3: 22411\n",
            "MAE do modelo_4: 22537\n",
            "MAE do modelo_5: 22569\n",
            "MAE do modelo_6: 22719\n",
            "MAE do modelo_7: 23044\n"
          ],
          "name": "stdout"
        }
      ]
    },
    {
      "cell_type": "markdown",
      "metadata": {
        "id": "hL2Z0K0Km4Mu",
        "colab_type": "text"
      },
      "source": [
        "Repare que o melhor modelo que temos é o modelo_3"
      ]
    },
    {
      "cell_type": "code",
      "metadata": {
        "id": "wKeZFTXcmoCi",
        "colab_type": "code",
        "colab": {}
      },
      "source": [
        "melhor_modelo = modelo_3"
      ],
      "execution_count": 0,
      "outputs": []
    },
    {
      "cell_type": "markdown",
      "metadata": {
        "id": "P95HHO1Pnodm",
        "colab_type": "text"
      },
      "source": [
        "Agora que sabemos qual é um melhor modelo, podemos predizer os resultados com ele e salvá-los.\n",
        "Para isso, vamos definir X_teste."
      ]
    },
    {
      "cell_type": "code",
      "metadata": {
        "id": "bCm3VpC0n5MZ",
        "colab_type": "code",
        "colab": {}
      },
      "source": [
        "X_teste = dados_teste[caracteristicas].copy()"
      ],
      "execution_count": 0,
      "outputs": []
    },
    {
      "cell_type": "code",
      "metadata": {
        "id": "Ws-rkqnSnka3",
        "colab_type": "code",
        "colab": {}
      },
      "source": [
        "melhor_modelo.fit(X,y)\n",
        "predicoes_teste = melhor_modelo.predict(X_teste)"
      ],
      "execution_count": 0,
      "outputs": []
    },
    {
      "cell_type": "markdown",
      "metadata": {
        "id": "epuK7_84oYfv",
        "colab_type": "text"
      },
      "source": [
        "Vamos montar nosso dicionário e salvá-lo em um arquivo."
      ]
    },
    {
      "cell_type": "code",
      "metadata": {
        "id": "mfe7A0UzoQg2",
        "colab_type": "code",
        "colab": {}
      },
      "source": [
        "resultados_floresta = {'Id': X_teste.index, 'SalePrice': predicoes_teste}"
      ],
      "execution_count": 0,
      "outputs": []
    },
    {
      "cell_type": "code",
      "metadata": {
        "id": "2zfSzymnoB8T",
        "colab_type": "code",
        "colab": {}
      },
      "source": [
        "resultados = pd.DataFrame(resultados_floresta)"
      ],
      "execution_count": 0,
      "outputs": []
    },
    {
      "cell_type": "code",
      "metadata": {
        "id": "gG3qt1YKocZt",
        "colab_type": "code",
        "colab": {}
      },
      "source": [
        "resultados.to_csv('resultados_floresta.csv', index=False)"
      ],
      "execution_count": 0,
      "outputs": []
    }
  ]
}