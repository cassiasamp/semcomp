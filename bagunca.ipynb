{
  "nbformat": 4,
  "nbformat_minor": 0,
  "metadata": {
    "colab": {
      "name": "bagunca.ipynb",
      "provenance": [],
      "collapsed_sections": []
    },
    "kernelspec": {
      "name": "python3",
      "display_name": "Python 3"
    }
  },
  "cells": [
    {
      "cell_type": "code",
      "metadata": {
        "id": "95lFfmhF7UUf",
        "colab_type": "code",
        "colab": {}
      },
      "source": [
        "import pandas as pd\n",
        "from sklearn import tree\n",
        "from sklearn.metrics import mean_absolute_error\n",
        "from sklearn.model_selection import train_test_split\n",
        "from sklearn.ensemble import RandomForestRegressor"
      ],
      "execution_count": 0,
      "outputs": []
    },
    {
      "cell_type": "code",
      "metadata": {
        "id": "4YJdGQbF7u0s",
        "colab_type": "code",
        "colab": {}
      },
      "source": [
        "dados_treino = pd.read_csv('treino.csv', index_col='Id')\n",
        "dados_teste = pd.read_csv('teste.csv', index_col='Id')"
      ],
      "execution_count": 0,
      "outputs": []
    },
    {
      "cell_type": "code",
      "metadata": {
        "id": "ffA2HI_a72bs",
        "colab_type": "code",
        "colab": {}
      },
      "source": [
        "X = dados_treino.copy()"
      ],
      "execution_count": 0,
      "outputs": []
    },
    {
      "cell_type": "code",
      "metadata": {
        "id": "uTIDTEDgJtbc",
        "colab_type": "code",
        "outputId": "a47f66c8-6f1c-48a9-86a3-fcb02feb3321",
        "colab": {
          "base_uri": "https://localhost:8080/",
          "height": 306
        }
      },
      "source": [
        "X.columns"
      ],
      "execution_count": 0,
      "outputs": [
        {
          "output_type": "execute_result",
          "data": {
            "text/plain": [
              "Index(['MSSubClass', 'MSZoning', 'LotFrontage', 'LotArea', 'Street', 'Alley',\n",
              "       'LotShape', 'LandContour', 'Utilities', 'LotConfig', 'LandSlope',\n",
              "       'Neighborhood', 'Condition1', 'Condition2', 'BldgType', 'HouseStyle',\n",
              "       'OverallQual', 'OverallCond', 'YearBuilt', 'YearRemodAdd', 'RoofStyle',\n",
              "       'RoofMatl', 'Exterior1st', 'Exterior2nd', 'MasVnrType', 'MasVnrArea',\n",
              "       'ExterQual', 'ExterCond', 'Foundation', 'BsmtQual', 'BsmtCond',\n",
              "       'BsmtExposure', 'BsmtFinType1', 'BsmtFinSF1', 'BsmtFinType2',\n",
              "       'BsmtFinSF2', 'BsmtUnfSF', 'TotalBsmtSF', 'Heating', 'HeatingQC',\n",
              "       'CentralAir', 'Electrical', '1stFlrSF', '2ndFlrSF', 'LowQualFinSF',\n",
              "       'GrLivArea', 'BsmtFullBath', 'BsmtHalfBath', 'FullBath', 'HalfBath',\n",
              "       'BedroomAbvGr', 'KitchenAbvGr', 'KitchenQual', 'TotRmsAbvGrd',\n",
              "       'Functional', 'Fireplaces', 'FireplaceQu', 'GarageType', 'GarageYrBlt',\n",
              "       'GarageFinish', 'GarageCars', 'GarageArea', 'GarageQual', 'GarageCond',\n",
              "       'PavedDrive', 'WoodDeckSF', 'OpenPorchSF', 'EnclosedPorch', '3SsnPorch',\n",
              "       'ScreenPorch', 'PoolArea', 'PoolQC', 'Fence', 'MiscFeature', 'MiscVal',\n",
              "       'MoSold', 'YrSold', 'SaleType', 'SaleCondition', 'SalePrice'],\n",
              "      dtype='object')"
            ]
          },
          "metadata": {
            "tags": []
          },
          "execution_count": 26
        }
      ]
    },
    {
      "cell_type": "markdown",
      "metadata": {
        "id": "Th-AOI_SKGRB",
        "colab_type": "text"
      },
      "source": [
        "Dropando linhas com na do SalePrice (se tiver)"
      ]
    },
    {
      "cell_type": "code",
      "metadata": {
        "id": "c_EBXfShJxKn",
        "colab_type": "code",
        "colab": {}
      },
      "source": [
        "X.dropna(axis=0, subset=['SalePrice'], inplace=True)"
      ],
      "execution_count": 0,
      "outputs": []
    },
    {
      "cell_type": "code",
      "metadata": {
        "id": "KiXKPJb9KEzZ",
        "colab_type": "code",
        "colab": {}
      },
      "source": [
        "y = X.SalePrice"
      ],
      "execution_count": 0,
      "outputs": []
    },
    {
      "cell_type": "code",
      "metadata": {
        "id": "PKsK-ZpQKRWx",
        "colab_type": "code",
        "colab": {}
      },
      "source": [
        "X.drop(['SalePrice'], axis=1, inplace=True)"
      ],
      "execution_count": 0,
      "outputs": []
    },
    {
      "cell_type": "code",
      "metadata": {
        "id": "tSYWoISPKeLp",
        "colab_type": "code",
        "colab": {}
      },
      "source": [
        "X_treino, X_valid, y_treino, y_valid = train_test_split(X, y, \n",
        "                                                        train_size=0.8, \n",
        "                                                        test_size=0.2, \n",
        "                                                        random_state=42)"
      ],
      "execution_count": 0,
      "outputs": []
    },
    {
      "cell_type": "code",
      "metadata": {
        "id": "4pQHAXCeKmmm",
        "colab_type": "code",
        "colab": {}
      },
      "source": [
        "cols_cat = [coluna for coluna in X_treino.columns\n",
        "            if X_treino[coluna].nunique() < 10\n",
        "            and X_treino[coluna].dtype == \"object\"]"
      ],
      "execution_count": 0,
      "outputs": []
    },
    {
      "cell_type": "code",
      "metadata": {
        "id": "mIXyb1VGNd1Y",
        "colab_type": "code",
        "outputId": "e36b5f0d-83cb-4893-df28-9294f39a280d",
        "colab": {
          "base_uri": "https://localhost:8080/",
          "height": 34
        }
      },
      "source": [
        "cols_cat[:5]"
      ],
      "execution_count": 0,
      "outputs": [
        {
          "output_type": "execute_result",
          "data": {
            "text/plain": [
              "['MSZoning', 'Street', 'Alley', 'LotShape', 'LandContour']"
            ]
          },
          "metadata": {
            "tags": []
          },
          "execution_count": 35
        }
      ]
    },
    {
      "cell_type": "code",
      "metadata": {
        "id": "Bixf6_RPNIwe",
        "colab_type": "code",
        "colab": {}
      },
      "source": [
        "cols_num = [coluna for coluna in X_treino.columns \n",
        "            if X_treino[coluna].dtype in ['int64', 'float64']]"
      ],
      "execution_count": 0,
      "outputs": []
    },
    {
      "cell_type": "code",
      "metadata": {
        "id": "xtXM9fX9NdDi",
        "colab_type": "code",
        "outputId": "6a77f0c5-8b3c-4ae4-8bf5-132d3b196aee",
        "colab": {
          "base_uri": "https://localhost:8080/",
          "height": 34
        }
      },
      "source": [
        "cols_num[:5]"
      ],
      "execution_count": 0,
      "outputs": [
        {
          "output_type": "execute_result",
          "data": {
            "text/plain": [
              "['MSSubClass', 'LotFrontage', 'LotArea', 'OverallQual', 'OverallCond']"
            ]
          },
          "metadata": {
            "tags": []
          },
          "execution_count": 36
        }
      ]
    },
    {
      "cell_type": "code",
      "metadata": {
        "id": "RTwAV7GfNjdi",
        "colab_type": "code",
        "colab": {}
      },
      "source": [
        "cols = cols_cat + cols_num"
      ],
      "execution_count": 0,
      "outputs": []
    },
    {
      "cell_type": "code",
      "metadata": {
        "id": "-lz_VyFmOIEd",
        "colab_type": "code",
        "colab": {}
      },
      "source": [
        "X_treino_sel = X_treino[cols].copy()\n",
        "X_valid_sel = X_valid[cols].copy()\n",
        "X_teste_sel = dados_teste[cols].copy()"
      ],
      "execution_count": 0,
      "outputs": []
    },
    {
      "cell_type": "code",
      "metadata": {
        "id": "5pVHTludOoEI",
        "colab_type": "code",
        "colab": {}
      },
      "source": [
        "from sklearn.impute import SimpleImputer"
      ],
      "execution_count": 0,
      "outputs": []
    },
    {
      "cell_type": "code",
      "metadata": {
        "id": "Qlgy4q-HQAHg",
        "colab_type": "code",
        "colab": {}
      },
      "source": [
        "transformer_num = SimpleImputer(strategy='median')"
      ],
      "execution_count": 0,
      "outputs": []
    },
    {
      "cell_type": "code",
      "metadata": {
        "id": "YQ3hGSzjRbGI",
        "colab_type": "code",
        "colab": {}
      },
      "source": [
        "from sklearn.preprocessing import OneHotEncoder\n",
        "from sklearn.pipeline import Pipeline"
      ],
      "execution_count": 0,
      "outputs": []
    },
    {
      "cell_type": "code",
      "metadata": {
        "id": "h3idm1c4QlFE",
        "colab_type": "code",
        "colab": {}
      },
      "source": [
        "transformer_cat = Pipeline(\n",
        "                    steps=[('imputacao', SimpleImputer(strategy='constant')),\n",
        "                            ('encoding', OneHotEncoder(handle_unknown='ignore'))])"
      ],
      "execution_count": 0,
      "outputs": []
    },
    {
      "cell_type": "code",
      "metadata": {
        "id": "EMxu8ZNLRhm0",
        "colab_type": "code",
        "colab": {}
      },
      "source": [
        "transformers = [('transformer_num',transformer_num, cols_num),\n",
        "                ('transformer_cat',transformer_cat, cols_cat)]"
      ],
      "execution_count": 0,
      "outputs": []
    },
    {
      "cell_type": "code",
      "metadata": {
        "id": "Dlb0cIWJTUQa",
        "colab_type": "code",
        "colab": {}
      },
      "source": [
        "from sklearn.compose import ColumnTransformer"
      ],
      "execution_count": 0,
      "outputs": []
    },
    {
      "cell_type": "code",
      "metadata": {
        "id": "6eMLSbvBSeG5",
        "colab_type": "code",
        "colab": {}
      },
      "source": [
        "preprocessador = ColumnTransformer(transformers)"
      ],
      "execution_count": 0,
      "outputs": []
    },
    {
      "cell_type": "code",
      "metadata": {
        "id": "zGDv7MOrTalS",
        "colab_type": "code",
        "colab": {}
      },
      "source": [
        "modelo = RandomForestRegressor(n_estimators=50, random_state=42)"
      ],
      "execution_count": 0,
      "outputs": []
    },
    {
      "cell_type": "code",
      "metadata": {
        "id": "yB3-_q5STjwQ",
        "colab_type": "code",
        "colab": {}
      },
      "source": [
        "pipe = Pipeline(\n",
        "    steps=[\n",
        "        ('preprocessador', preprocessador),\n",
        "        ('modelo', modelo)])"
      ],
      "execution_count": 0,
      "outputs": []
    },
    {
      "cell_type": "code",
      "metadata": {
        "id": "vagUijIlXt97",
        "colab_type": "code",
        "colab": {}
      },
      "source": [
        "from sklearn.model_selection import cross_val_score"
      ],
      "execution_count": 0,
      "outputs": []
    },
    {
      "cell_type": "code",
      "metadata": {
        "id": "5jFybfL3YFkK",
        "colab_type": "code",
        "colab": {}
      },
      "source": [
        "maes = -1 * cross_val_score(pipe, X,y, cv=5, scoring='neg_mean_absolute_error')"
      ],
      "execution_count": 0,
      "outputs": []
    },
    {
      "cell_type": "code",
      "metadata": {
        "id": "LJnSTIm3YmyM",
        "colab_type": "code",
        "outputId": "94eed1b2-afe4-4a08-b323-edeaa85e1eaa",
        "colab": {
          "base_uri": "https://localhost:8080/",
          "height": 51
        }
      },
      "source": [
        "maes"
      ],
      "execution_count": 0,
      "outputs": [
        {
          "output_type": "execute_result",
          "data": {
            "text/plain": [
              "array([18467.22787671, 17665.66541096, 18079.93541096, 16019.93712329,\n",
              "       19475.70486301])"
            ]
          },
          "metadata": {
            "tags": []
          },
          "execution_count": 61
        }
      ]
    },
    {
      "cell_type": "code",
      "metadata": {
        "id": "5XdQJ1sYT9Qa",
        "colab_type": "code",
        "outputId": "e4f879d2-6c8c-4ba1-c32a-feec85eded85",
        "colab": {
          "base_uri": "https://localhost:8080/",
          "height": 493
        }
      },
      "source": [
        "pipe.fit(X_treino_sel, y_treino)"
      ],
      "execution_count": 0,
      "outputs": [
        {
          "output_type": "execute_result",
          "data": {
            "text/plain": [
              "Pipeline(memory=None,\n",
              "         steps=[('preprocessador',\n",
              "                 ColumnTransformer(n_jobs=None, remainder='drop',\n",
              "                                   sparse_threshold=0.3,\n",
              "                                   transformer_weights=None,\n",
              "                                   transformers=[('transformer_num',\n",
              "                                                  SimpleImputer(add_indicator=False,\n",
              "                                                                copy=True,\n",
              "                                                                fill_value=None,\n",
              "                                                                missing_values=nan,\n",
              "                                                                strategy='median',\n",
              "                                                                verbose=0),\n",
              "                                                  ['MSSubClass', 'LotFrontage',\n",
              "                                                   'LotArea', 'OverallQual',\n",
              "                                                   'OverallCond', 'Yea...\n",
              "                                   verbose=False)),\n",
              "                ('modelo',\n",
              "                 RandomForestRegressor(bootstrap=True, criterion='mse',\n",
              "                                       max_depth=None, max_features='auto',\n",
              "                                       max_leaf_nodes=None,\n",
              "                                       min_impurity_decrease=0.0,\n",
              "                                       min_impurity_split=None,\n",
              "                                       min_samples_leaf=1, min_samples_split=2,\n",
              "                                       min_weight_fraction_leaf=0.0,\n",
              "                                       n_estimators=50, n_jobs=None,\n",
              "                                       oob_score=False, random_state=42,\n",
              "                                       verbose=0, warm_start=False))],\n",
              "         verbose=False)"
            ]
          },
          "metadata": {
            "tags": []
          },
          "execution_count": 53
        }
      ]
    },
    {
      "cell_type": "code",
      "metadata": {
        "id": "G-FftqO4UIew",
        "colab_type": "code",
        "colab": {}
      },
      "source": [
        "preds = pipe.predict(X_valid_sel)"
      ],
      "execution_count": 0,
      "outputs": []
    },
    {
      "cell_type": "code",
      "metadata": {
        "id": "-yd2ag_yUV17",
        "colab_type": "code",
        "colab": {}
      },
      "source": [
        "mae = mean_absolute_error(y_valid, preds)"
      ],
      "execution_count": 0,
      "outputs": []
    },
    {
      "cell_type": "code",
      "metadata": {
        "id": "bGYl_pm7UxVe",
        "colab_type": "code",
        "outputId": "2c1e92bc-9a29-4ae2-da67-9b254effb867",
        "colab": {
          "base_uri": "https://localhost:8080/",
          "height": 34
        }
      },
      "source": [
        "mae"
      ],
      "execution_count": 0,
      "outputs": [
        {
          "output_type": "execute_result",
          "data": {
            "text/plain": [
              "18152.781643835613"
            ]
          },
          "metadata": {
            "tags": []
          },
          "execution_count": 58
        }
      ]
    },
    {
      "cell_type": "code",
      "metadata": {
        "id": "mF5xqMePUzEZ",
        "colab_type": "code",
        "colab": {}
      },
      "source": [
        ""
      ],
      "execution_count": 0,
      "outputs": []
    }
  ]
}