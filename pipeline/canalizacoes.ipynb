{
  "nbformat": 4,
  "nbformat_minor": 0,
  "metadata": {
    "colab": {
      "name": "canalizacoes.ipynb",
      "provenance": [],
      "collapsed_sections": []
    },
    "kernelspec": {
      "name": "python3",
      "display_name": "Python 3"
    }
  },
  "cells": [
    {
      "cell_type": "markdown",
      "metadata": {
        "id": "tPZyN4rz5GPz",
        "colab_type": "text"
      },
      "source": [
        "Fazer todos esses pré processamentos para o conjunto de dados é desgastante. Há sim uma maneira de 'automatizar' isso, essa maneria constrói como que um canal por onde passam os nossos dados. O que chamamos de **pipeline**."
      ]
    },
    {
      "cell_type": "markdown",
      "metadata": {
        "id": "AI5p8Bs95byY",
        "colab_type": "text"
      },
      "source": [
        "Antes de vermos o que é isso, vamos novamente fazer os imports, ler e limpar os nossos dados."
      ]
    },
    {
      "cell_type": "code",
      "metadata": {
        "id": "Eis5USJD4z7o",
        "colab_type": "code",
        "colab": {}
      },
      "source": [
        "import pandas as pd\n",
        "from sklearn.model_selection import train_test_split\n",
        "from sklearn.compose import ColumnTransformer\n",
        "from sklearn.pipeline import Pipeline\n",
        "from sklearn.impute import SimpleImputer\n",
        "from sklearn.preprocessing import OneHotEncoder\n",
        "from sklearn.ensemble import RandomForestRegressor\n",
        "from sklearn.metrics import mean_absolute_error"
      ],
      "execution_count": 0,
      "outputs": []
    },
    {
      "cell_type": "code",
      "metadata": {
        "id": "2jnftv3cMyFm",
        "colab_type": "code",
        "colab": {}
      },
      "source": [
        "dados_treino = pd.read_csv('treino.csv', index_col='Id')\n",
        "dados_teste = pd.read_csv('teste.csv', index_col='Id')"
      ],
      "execution_count": 0,
      "outputs": []
    },
    {
      "cell_type": "markdown",
      "metadata": {
        "id": "4JIwOzReQXGw",
        "colab_type": "text"
      },
      "source": [
        "Fazendo cópia, removendo linhas sem o valor que queremos prever e a coluna que vamos prever dos dados de treino"
      ]
    },
    {
      "cell_type": "code",
      "metadata": {
        "id": "RKXRwsHqQhGd",
        "colab_type": "code",
        "colab": {}
      },
      "source": [
        "X = dados_treino.copy()"
      ],
      "execution_count": 0,
      "outputs": []
    },
    {
      "cell_type": "code",
      "metadata": {
        "id": "zF5V7zFhQsqj",
        "colab_type": "code",
        "colab": {}
      },
      "source": [
        "X.dropna(axis=0, subset=['SalePrice'], inplace=True)\n",
        "y = X.SalePrice\n",
        "X.drop(['SalePrice'], axis=1, inplace=True)"
      ],
      "execution_count": 0,
      "outputs": []
    },
    {
      "cell_type": "markdown",
      "metadata": {
        "id": "lZLJKqTFQyig",
        "colab_type": "text"
      },
      "source": [
        "Feito essa limpeza, dividimos os datasets entre treino e teste."
      ]
    },
    {
      "cell_type": "code",
      "metadata": {
        "id": "PP7iHPUXQ36i",
        "colab_type": "code",
        "colab": {}
      },
      "source": [
        "X_treino, X_valid, y_treino, y_valid = train_test_split(X, y, \n",
        "                                                        train_size=0.8, \n",
        "                                                        test_size=0.2, \n",
        "                                                        random_state=42)"
      ],
      "execution_count": 0,
      "outputs": []
    },
    {
      "cell_type": "markdown",
      "metadata": {
        "id": "Smt0dqLsRjZO",
        "colab_type": "text"
      },
      "source": [
        "Dos dados de treino, vamos selecionar as colunas categóricas com baixa cardinalidade, menor do que 10."
      ]
    },
    {
      "cell_type": "code",
      "metadata": {
        "id": "Hliv89mdRpBi",
        "colab_type": "code",
        "colab": {}
      },
      "source": [
        "colunas_cat = [coluna for coluna in X_treino.columns \n",
        "               if X_treino[coluna].nunique() < 10 \n",
        "               and X_treino[coluna].dtype == \"object\"]"
      ],
      "execution_count": 0,
      "outputs": []
    },
    {
      "cell_type": "markdown",
      "metadata": {
        "id": "Q80K63hVSMJH",
        "colab_type": "text"
      },
      "source": [
        "Agora vamos selecionar as colunas numéricas."
      ]
    },
    {
      "cell_type": "code",
      "metadata": {
        "id": "pODT1CKKR4Hh",
        "colab_type": "code",
        "colab": {}
      },
      "source": [
        "colunas_num = [coluna for coluna in X_treino.columns \n",
        "               if X_treino[coluna].dtype in ['int64', 'float64']]"
      ],
      "execution_count": 0,
      "outputs": []
    },
    {
      "cell_type": "markdown",
      "metadata": {
        "id": "nfarxz9oS8eA",
        "colab_type": "text"
      },
      "source": [
        "Das colunas que selecionamos, vamos manter apenas elas nos dados de validacao, treino e teste.\n",
        "\n",
        "Como fazemos para usar todas as colunas que selecionamos? Juntamos com +."
      ]
    },
    {
      "cell_type": "code",
      "metadata": {
        "id": "yEgvxcgrTCR2",
        "colab_type": "code",
        "colab": {}
      },
      "source": [
        "colunas_selecionadas = colunas_cat + colunas_num"
      ],
      "execution_count": 0,
      "outputs": []
    },
    {
      "cell_type": "markdown",
      "metadata": {
        "id": "ASqW36YqS825",
        "colab_type": "text"
      },
      "source": [
        "Feito isso, vamos usar apenas essas colunas nos nossos dados de treino, teste e validação. Então vamos copia-las para novos Xs."
      ]
    },
    {
      "cell_type": "code",
      "metadata": {
        "id": "QpGmCjWGTNhP",
        "colab_type": "code",
        "colab": {}
      },
      "source": [
        "X_treino_selec = X_treino[colunas_selecionadas].copy()\n",
        "X_valid_selec = X_valid[colunas_selecionadas].copy()\n",
        "X_teste_selec = dados_teste[colunas_selecionadas].copy()"
      ],
      "execution_count": 0,
      "outputs": []
    },
    {
      "cell_type": "markdown",
      "metadata": {
        "id": "QH4kiy_GfiC2",
        "colab_type": "text"
      },
      "source": [
        "Beleza, agora podemos organizar a nossa pipeline. A pipeline é uma sequência de passos. Esses passos geralmente involvem as etapas de preprocessamento e um modelo. Chamamos esses passos de steps.\n",
        "\n",
        "Ela vai ser algo assim:"
      ]
    },
    {
      "cell_type": "code",
      "metadata": {
        "id": "gKrEQQOrhFcb",
        "colab_type": "code",
        "colab": {
          "base_uri": "https://localhost:8080/",
          "height": 195
        },
        "outputId": "3120b51a-7fcf-42fb-fd26-2321a193de0b"
      },
      "source": [
        "steps = [(preprocessador, modelo)]\n",
        "\n",
        "pipeline_1 = Pipeline(steps)"
      ],
      "execution_count": 10,
      "outputs": [
        {
          "output_type": "error",
          "ename": "NameError",
          "evalue": "ignored",
          "traceback": [
            "\u001b[0;31m---------------------------------------------------------------------------\u001b[0m",
            "\u001b[0;31mNameError\u001b[0m                                 Traceback (most recent call last)",
            "\u001b[0;32m<ipython-input-10-1c0e556d324b>\u001b[0m in \u001b[0;36m<module>\u001b[0;34m()\u001b[0m\n\u001b[0;32m----> 1\u001b[0;31m \u001b[0msteps\u001b[0m \u001b[0;34m=\u001b[0m \u001b[0;34m[\u001b[0m\u001b[0;34m(\u001b[0m\u001b[0mpreprocessador\u001b[0m\u001b[0;34m,\u001b[0m \u001b[0mmodelo\u001b[0m\u001b[0;34m)\u001b[0m\u001b[0;34m]\u001b[0m\u001b[0;34m\u001b[0m\u001b[0;34m\u001b[0m\u001b[0m\n\u001b[0m\u001b[1;32m      2\u001b[0m \u001b[0;34m\u001b[0m\u001b[0m\n\u001b[1;32m      3\u001b[0m \u001b[0mpipeline_1\u001b[0m \u001b[0;34m=\u001b[0m \u001b[0mPipeline\u001b[0m\u001b[0;34m(\u001b[0m\u001b[0msteps\u001b[0m\u001b[0;34m)\u001b[0m\u001b[0;34m\u001b[0m\u001b[0;34m\u001b[0m\u001b[0m\n",
            "\u001b[0;31mNameError\u001b[0m: name 'preprocessador' is not defined"
          ]
        }
      ]
    },
    {
      "cell_type": "markdown",
      "metadata": {
        "id": "gPnLpW7Xg1cQ",
        "colab_type": "text"
      },
      "source": [
        "Para isso, precisamos criar os preprocessadores. Quais são eles?\n",
        "\n",
        "Os imputadores e encoders para processar os dados numericos e categoricos. Certo?\n",
        "\n",
        "Como eles usam o fit transform, vamos chama-los de transformers."
      ]
    },
    {
      "cell_type": "markdown",
      "metadata": {
        "id": "QFckzuthb6Vs",
        "colab_type": "text"
      },
      "source": [
        "Primeiro, para transformar os dados numéricos, vamos usar o simple imputer. "
      ]
    },
    {
      "cell_type": "code",
      "metadata": {
        "id": "prpv1F9PTgss",
        "colab_type": "code",
        "colab": {}
      },
      "source": [
        "transformer_num = SimpleImputer(strategy='mean')"
      ],
      "execution_count": 0,
      "outputs": []
    },
    {
      "cell_type": "markdown",
      "metadata": {
        "id": "RQfGjHuscHuA",
        "colab_type": "text"
      },
      "source": [
        "E para os nossos dados categóricos, queremos usar o simple imputer e o one hot encoding, certo? Vamos escrevê-los."
      ]
    },
    {
      "cell_type": "code",
      "metadata": {
        "id": "FE-av4zchl5q",
        "colab_type": "code",
        "colab": {}
      },
      "source": [
        "transformer_cat = (SimpleImputer(strategy='constant'),\n",
        "                   OneHotEncoder(handle_unknown='ignore'))"
      ],
      "execution_count": 0,
      "outputs": []
    },
    {
      "cell_type": "markdown",
      "metadata": {
        "id": "Blgw0DqhdS15",
        "colab_type": "text"
      },
      "source": [
        "E podemos especificar o nome de cada um desses processos."
      ]
    },
    {
      "cell_type": "code",
      "metadata": {
        "id": "lhjmIsyDdf-O",
        "colab_type": "code",
        "colab": {}
      },
      "source": [
        "transformer_cat = ('simple imputer', SimpleImputer(strategy='constant')),('one hot encoder', OneHotEncoder(handle_unknown='ignore'))"
      ],
      "execution_count": 0,
      "outputs": []
    },
    {
      "cell_type": "markdown",
      "metadata": {
        "id": "0KuD2kwDd9Cd",
        "colab_type": "text"
      },
      "source": [
        "Podemos também colocar essas tuplas em uma lista."
      ]
    },
    {
      "cell_type": "code",
      "metadata": {
        "id": "f53Z8kfJeBby",
        "colab_type": "code",
        "colab": {}
      },
      "source": [
        "transformer_cat = [('simple imputer', SimpleImputer(strategy='constant')),\n",
        "                   ('one hot encoder', OneHotEncoder(handle_unknown='ignore'))]"
      ],
      "execution_count": 0,
      "outputs": []
    },
    {
      "cell_type": "markdown",
      "metadata": {
        "id": "8ULoyBiTeNr0",
        "colab_type": "text"
      },
      "source": [
        "Como temos o passo 1 que é usar o simple imputer e o passo 2 que é usar o one hot ecoding, vou chamar a nossa lista de steps.\n",
        "\n",
        "Isso lembra alguma coisa? Sim aquela pipeline que tinha os steps."
      ]
    },
    {
      "cell_type": "code",
      "metadata": {
        "id": "wTiKRvT5fH-l",
        "colab_type": "code",
        "colab": {}
      },
      "source": [
        "steps=[('imputer', SimpleImputer(strategy='constant')),\n",
        "       ('onehot', OneHotEncoder(handle_unknown='ignore'))]"
      ],
      "execution_count": 0,
      "outputs": []
    },
    {
      "cell_type": "markdown",
      "metadata": {
        "id": "BSOwDS4xcwyd",
        "colab_type": "text"
      },
      "source": [
        "Repare que aqui nas variáveis categóricas já temos duas coisas acontecendo, dois passos, portanto, podemos usar uma pipeline."
      ]
    },
    {
      "cell_type": "code",
      "metadata": {
        "id": "gqYU-piQcn8Z",
        "colab_type": "code",
        "colab": {}
      },
      "source": [
        "transformer_cat = Pipeline(steps)"
      ],
      "execution_count": 0,
      "outputs": []
    },
    {
      "cell_type": "markdown",
      "metadata": {
        "id": "MjdlAKt9fkQy",
        "colab_type": "text"
      },
      "source": [
        "Agora vamos pegar cada um desses transformers e também colocá-los em uma lista."
      ]
    },
    {
      "cell_type": "code",
      "metadata": {
        "id": "VZNy0Q-ifsNp",
        "colab_type": "code",
        "colab": {}
      },
      "source": [
        "transformers=[('transformer_num', transformer_num, colunas_num),\n",
        "              ('transformer_cat', transformer_cat, colunas_cat)]"
      ],
      "execution_count": 0,
      "outputs": []
    },
    {
      "cell_type": "markdown",
      "metadata": {
        "id": "s9iTzj4bfWSe",
        "colab_type": "text"
      },
      "source": [
        "E vamos definir o nosso preprocessador, ele faz o que? Pre processa as nossas colunas, certo? Então vai ser uma classe do tipo ColumnTransformer que recebe os nossos transformers."
      ]
    },
    {
      "cell_type": "code",
      "metadata": {
        "id": "lQWPZBRjhxRl",
        "colab_type": "code",
        "colab": {}
      },
      "source": [
        "preprocessador = ColumnTransformer(transformers)"
      ],
      "execution_count": 0,
      "outputs": []
    },
    {
      "cell_type": "markdown",
      "metadata": {
        "id": "FaD8GyXVf8an",
        "colab_type": "text"
      },
      "source": [
        "Se olharmos no exemplo da pipeline inicial, temos os preprocessadores e o modelo, certo? Então vamos definir o modelo."
      ]
    },
    {
      "cell_type": "code",
      "metadata": {
        "id": "tk6PMreNiDqr",
        "colab_type": "code",
        "colab": {}
      },
      "source": [
        "modelo = RandomForestRegressor(n_estimators=50, random_state=42)"
      ],
      "execution_count": 0,
      "outputs": []
    },
    {
      "cell_type": "markdown",
      "metadata": {
        "id": "qQrHxMphgGng",
        "colab_type": "text"
      },
      "source": [
        "Com modelo e preprocessador definidos, basta reunirmos ambos em steps e colocá-los dentro de uma pipeline."
      ]
    },
    {
      "cell_type": "code",
      "metadata": {
        "id": "hV_rRdM2iKoy",
        "colab_type": "code",
        "colab": {}
      },
      "source": [
        "pipeline_1 = Pipeline(steps=[('preprocessador', preprocessador),\n",
        "                             ('modelo', modelo)])"
      ],
      "execution_count": 0,
      "outputs": []
    },
    {
      "cell_type": "markdown",
      "metadata": {
        "id": "0Np8Q79JgSUr",
        "colab_type": "text"
      },
      "source": [
        "Repare que é melhor declarar os steps dentro do objeto, uma vez que ele fica atrelado à uma pipeline específica."
      ]
    },
    {
      "cell_type": "markdown",
      "metadata": {
        "id": "SjtPiaTogcEM",
        "colab_type": "text"
      },
      "source": [
        "Pronto, agora temos a nossa pipeline pronta e sempre que tivermos algum dado, ao invés de fazermos manualmente como até agora, ele irá passar pelos imputers e one hot encoding automaticamente. "
      ]
    },
    {
      "cell_type": "markdown",
      "metadata": {
        "id": "SUcveylagtLV",
        "colab_type": "text"
      },
      "source": [
        "Assim como para um modelo, temos os métodos fit e predict, veja que não precisamos mais 'arrumar' os dados agora que temos a pipeline."
      ]
    },
    {
      "cell_type": "code",
      "metadata": {
        "id": "jIskVN4_ioQ8",
        "colab_type": "code",
        "colab": {
          "base_uri": "https://localhost:8080/",
          "height": 487
        },
        "outputId": "3c3562b5-4284-4248-daf2-d429d66172c8"
      },
      "source": [
        "pipeline_1.fit(X_treino_selec, y_treino)"
      ],
      "execution_count": 21,
      "outputs": [
        {
          "output_type": "execute_result",
          "data": {
            "text/plain": [
              "Pipeline(memory=None,\n",
              "         steps=[('preprocessador',\n",
              "                 ColumnTransformer(n_jobs=None, remainder='drop',\n",
              "                                   sparse_threshold=0.3,\n",
              "                                   transformer_weights=None,\n",
              "                                   transformers=[('transformer_num',\n",
              "                                                  SimpleImputer(add_indicator=False,\n",
              "                                                                copy=True,\n",
              "                                                                fill_value=None,\n",
              "                                                                missing_values=nan,\n",
              "                                                                strategy='mean',\n",
              "                                                                verbose=0),\n",
              "                                                  ['MSSubClass', 'LotFrontage',\n",
              "                                                   'LotArea', 'OverallQual',\n",
              "                                                   'OverallCond', 'YearB...\n",
              "                                   verbose=False)),\n",
              "                ('modelo',\n",
              "                 RandomForestRegressor(bootstrap=True, criterion='mse',\n",
              "                                       max_depth=None, max_features='auto',\n",
              "                                       max_leaf_nodes=None,\n",
              "                                       min_impurity_decrease=0.0,\n",
              "                                       min_impurity_split=None,\n",
              "                                       min_samples_leaf=1, min_samples_split=2,\n",
              "                                       min_weight_fraction_leaf=0.0,\n",
              "                                       n_estimators=50, n_jobs=None,\n",
              "                                       oob_score=False, random_state=42,\n",
              "                                       verbose=0, warm_start=False))],\n",
              "         verbose=False)"
            ]
          },
          "metadata": {
            "tags": []
          },
          "execution_count": 21
        }
      ]
    },
    {
      "cell_type": "code",
      "metadata": {
        "id": "qPQo5G4piv04",
        "colab_type": "code",
        "colab": {
          "base_uri": "https://localhost:8080/",
          "height": 34
        },
        "outputId": "647afd1e-0bbd-4095-9db0-15a856e1f1ec"
      },
      "source": [
        "preds = pipeline_1.predict(X_valid_selec)\n",
        "\n",
        "print('MAE:', mean_absolute_error(y_valid, preds))"
      ],
      "execution_count": 22,
      "outputs": [
        {
          "output_type": "stream",
          "text": [
            "MAE: 18289.183561643833\n"
          ],
          "name": "stdout"
        }
      ]
    },
    {
      "cell_type": "code",
      "metadata": {
        "id": "ZLQPL3bSjbq9",
        "colab_type": "code",
        "colab": {}
      },
      "source": [
        "preds_teste = pipeline_1.predict(X_teste_selec)"
      ],
      "execution_count": 0,
      "outputs": []
    },
    {
      "cell_type": "markdown",
      "metadata": {
        "id": "8yqnWKJQg2Rh",
        "colab_type": "text"
      },
      "source": [
        "E pronto, agora basta salvarmos o resultado em um csv."
      ]
    },
    {
      "cell_type": "code",
      "metadata": {
        "id": "Vua2-40Qj2Fx",
        "colab_type": "code",
        "colab": {}
      },
      "source": [
        "resultado = pd.DataFrame({'Id': X_teste_selec.index,\n",
        "                       'SalePrice': preds_teste})\n",
        "resultado.to_csv('resultado_pipeline.csv', index=False)"
      ],
      "execution_count": 0,
      "outputs": []
    }
  ]
}