{
  "nbformat": 4,
  "nbformat_minor": 0,
  "metadata": {
    "colab": {
      "name": "validacao_cruzada.ipynb",
      "provenance": [],
      "collapsed_sections": []
    },
    "kernelspec": {
      "name": "python3",
      "display_name": "Python 3"
    }
  },
  "cells": [
    {
      "cell_type": "code",
      "metadata": {
        "id": "ZmNwQKAvlLOI",
        "colab_type": "code",
        "colab": {}
      },
      "source": [
        "import pandas as pd\n",
        "from sklearn.model_selection import train_test_split\n",
        "from sklearn.compose import ColumnTransformer\n",
        "from sklearn.pipeline import Pipeline\n",
        "from sklearn.impute import SimpleImputer\n",
        "from sklearn.preprocessing import OneHotEncoder\n",
        "from sklearn.ensemble import RandomForestRegressor\n",
        "from sklearn.metrics import mean_absolute_error"
      ],
      "execution_count": 0,
      "outputs": []
    },
    {
      "cell_type": "code",
      "metadata": {
        "id": "vDfxWPohlU9R",
        "colab_type": "code",
        "colab": {}
      },
      "source": [
        "dados_treino = pd.read_csv('treino.csv', index_col='Id')\n",
        "dados_teste = pd.read_csv('teste.csv', index_col='Id')"
      ],
      "execution_count": 0,
      "outputs": []
    },
    {
      "cell_type": "code",
      "metadata": {
        "id": "yo_fu8qAldoS",
        "colab_type": "code",
        "colab": {}
      },
      "source": [
        "X = dados_treino.copy()\n",
        "X.dropna(axis=0, subset=['SalePrice'], inplace=True)\n",
        "y = X.SalePrice\n",
        "X.drop(['SalePrice'], axis=1, inplace=True)"
      ],
      "execution_count": 0,
      "outputs": []
    },
    {
      "cell_type": "code",
      "metadata": {
        "id": "Djh4o4n7lmoU",
        "colab_type": "code",
        "colab": {}
      },
      "source": [
        "colunas_numericas = [coluna for coluna in X.columns if X[coluna].dtype in ['int64', 'float64']]"
      ],
      "execution_count": 0,
      "outputs": []
    },
    {
      "cell_type": "code",
      "metadata": {
        "id": "uuYteddvl4-u",
        "colab_type": "code",
        "colab": {}
      },
      "source": [
        "X = X[colunas_numericas]\n",
        "X_test = dados_teste[colunas_numericas].copy()"
      ],
      "execution_count": 0,
      "outputs": []
    },
    {
      "cell_type": "code",
      "metadata": {
        "id": "XbJsIkfHmRQt",
        "colab_type": "code",
        "colab": {}
      },
      "source": [
        "pipeline_1 = Pipeline(steps=[\n",
        "    ('preprocessador', SimpleImputer()),\n",
        "    ('modelo', RandomForestRegressor(n_estimators=50, random_state=42))\n",
        "])"
      ],
      "execution_count": 0,
      "outputs": []
    },
    {
      "cell_type": "code",
      "metadata": {
        "id": "LXXrZltnmZ_M",
        "colab_type": "code",
        "colab": {}
      },
      "source": [
        "from sklearn.model_selection import cross_val_score"
      ],
      "execution_count": 0,
      "outputs": []
    },
    {
      "cell_type": "code",
      "metadata": {
        "id": "DEF8CMAonnOW",
        "colab_type": "code",
        "colab": {}
      },
      "source": [
        "maes = cross_val_score(pipeline_1, \n",
        "                         X, y,\n",
        "                         cv=5,\n",
        "                         scoring='neg_mean_absolute_error')"
      ],
      "execution_count": 0,
      "outputs": []
    },
    {
      "cell_type": "code",
      "metadata": {
        "id": "kagZO1RAnpG7",
        "colab_type": "code",
        "colab": {
          "base_uri": "https://localhost:8080/",
          "height": 34
        },
        "outputId": "94d93ca9-6db7-46c8-cdb7-cc6207a9ad93"
      },
      "source": [
        "print(\"Média do MAE:\", maes.mean())"
      ],
      "execution_count": 18,
      "outputs": [
        {
          "output_type": "stream",
          "text": [
            "Média do MAE: -18205.873470319635\n"
          ],
          "name": "stdout"
        }
      ]
    },
    {
      "cell_type": "code",
      "metadata": {
        "id": "wDc9GCipmcrl",
        "colab_type": "code",
        "colab": {}
      },
      "source": [
        "maes = -1 * cross_val_score(pipeline_1, \n",
        "                         X, y,\n",
        "                         cv=5,\n",
        "                         scoring='neg_mean_absolute_error')"
      ],
      "execution_count": 0,
      "outputs": []
    },
    {
      "cell_type": "code",
      "metadata": {
        "id": "Gd68uONomg_I",
        "colab_type": "code",
        "colab": {
          "base_uri": "https://localhost:8080/",
          "height": 34
        },
        "outputId": "46f314ad-b250-49fa-e4d0-be53c3b120a9"
      },
      "source": [
        "print(\"Média do MAE:\", maes.mean())"
      ],
      "execution_count": 15,
      "outputs": [
        {
          "output_type": "stream",
          "text": [
            "Média do MAE: 18205.873470319635\n"
          ],
          "name": "stdout"
        }
      ]
    },
    {
      "cell_type": "markdown",
      "metadata": {
        "id": "iAAq036moOJH",
        "colab_type": "text"
      },
      "source": [
        "Podemos usar a validação cruzada também para ter uma idéia de qual o melhor número de árvores na nossa floresta.\n",
        "\n",
        "Para isso, vamos fazer uma função que itere pelos 50 estimators e plote um gráfico."
      ]
    },
    {
      "cell_type": "code",
      "metadata": {
        "id": "INiYm9MvolqK",
        "colab_type": "code",
        "colab": {}
      },
      "source": [
        "def obter_maes(n_estimators):\n",
        "    pipeline_maes = Pipeline(steps=[\n",
        "        ('preprocessor', SimpleImputer()),\n",
        "        ('model', RandomForestRegressor(n_estimators, random_state=0))])\n",
        "    scores = -1 * cross_val_score(pipeline_maes, \n",
        "                                  X, y,\n",
        "                                  cv=3,\n",
        "                                  scoring='neg_mean_absolute_error')\n",
        "    return scores.mean()"
      ],
      "execution_count": 0,
      "outputs": []
    },
    {
      "cell_type": "code",
      "metadata": {
        "id": "efYBVFDQo348",
        "colab_type": "code",
        "colab": {}
      },
      "source": [
        "resultados = {}\n",
        "for i in range(1, 9):\n",
        "  resultados[50*i] = obter_maes(50*i)"
      ],
      "execution_count": 0,
      "outputs": []
    },
    {
      "cell_type": "code",
      "metadata": {
        "id": "8EY4yx3Qphfi",
        "colab_type": "code",
        "colab": {
          "base_uri": "https://localhost:8080/",
          "height": 151
        },
        "outputId": "18c76231-31c4-454a-cb52-afcdd72b729a"
      },
      "source": [
        "resultados"
      ],
      "execution_count": 23,
      "outputs": [
        {
          "output_type": "execute_result",
          "data": {
            "text/plain": [
              "{50: 18353.8393511688,\n",
              " 100: 18395.2151680032,\n",
              " 150: 18288.730020956387,\n",
              " 200: 18248.345889801505,\n",
              " 250: 18255.26922247291,\n",
              " 300: 18275.241922621914,\n",
              " 350: 18270.29183308043,\n",
              " 400: 18270.197974402367}"
            ]
          },
          "metadata": {
            "tags": []
          },
          "execution_count": 23
        }
      ]
    },
    {
      "cell_type": "code",
      "metadata": {
        "id": "ogcHNvdfpWeq",
        "colab_type": "code",
        "colab": {
          "base_uri": "https://localhost:8080/",
          "height": 269
        },
        "outputId": "2f9eb8b8-d492-47a8-d05f-6fb0c53321da"
      },
      "source": [
        "import matplotlib.pyplot as plt\n",
        "%matplotlib inline\n",
        "\n",
        "plt.plot(resultados.keys(), resultados.values())\n",
        "plt.show()"
      ],
      "execution_count": 24,
      "outputs": [
        {
          "output_type": "display_data",
          "data": {
            "image/png": "[encoded data removed]",
            "text/plain": [
              "<Figure size 432x288 with 1 Axes>"
            ]
          },
          "metadata": {
            "tags": []
          }
        }
      ]
    },
    {
      "cell_type": "code",
      "metadata": {
        "id": "5mLdDr79pdMY",
        "colab_type": "code",
        "colab": {}
      },
      "source": [
        "melhor_n_estimators = min(resultados, key=resultados.get)"
      ],
      "execution_count": 0,
      "outputs": []
    },
    {
      "cell_type": "code",
      "metadata": {
        "id": "kK8NjXM5ppyZ",
        "colab_type": "code",
        "colab": {
          "base_uri": "https://localhost:8080/",
          "height": 34
        },
        "outputId": "9ed62510-53b9-41b9-8cdf-eac0e3a3144e"
      },
      "source": [
        "melhor_n_estimators"
      ],
      "execution_count": 26,
      "outputs": [
        {
          "output_type": "execute_result",
          "data": {
            "text/plain": [
              "200"
            ]
          },
          "metadata": {
            "tags": []
          },
          "execution_count": 26
        }
      ]
    }
  ]
}